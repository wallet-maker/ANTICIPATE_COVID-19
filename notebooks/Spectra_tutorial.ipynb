{
  "nbformat": 4,
  "nbformat_minor": 0,
  "metadata": {
    "colab": {
      "provenance": [],
      "authorship_tag": "ABX9TyO9ch75YctrEFV7a7GANesC",
      "include_colab_link": true
    },
    "kernelspec": {
      "name": "python3",
      "display_name": "Python 3"
    },
    "language_info": {
      "name": "python"
    }
  },
  "cells": [
    {
      "cell_type": "markdown",
      "metadata": {
        "id": "view-in-github",
        "colab_type": "text"
      },
      "source": [
        "<a href=\"https://colab.research.google.com/github/wallet-maker/ANTICIPATE_COVID-19/blob/main/notebooks/Spectra_tutorial.ipynb\" target=\"_parent\"><img src=\"https://colab.research.google.com/assets/colab-badge.svg\" alt=\"Open In Colab\"/></a>"
      ]
    },
    {
      "cell_type": "code",
      "execution_count": 1,
      "metadata": {
        "colab": {
          "base_uri": "https://localhost:8080/"
        },
        "id": "xmWAliJ7G5Rj",
        "outputId": "aac1bff0-b85a-421b-ccbe-4ff6a46b4f74"
      },
      "outputs": [
        {
          "output_type": "stream",
          "name": "stdout",
          "text": [
            "fatal: destination path 'spectra' already exists and is not an empty directory.\n"
          ]
        }
      ],
      "source": [
        "!git clone https://github.com/dpeerlab/spectra"
      ]
    },
    {
      "cell_type": "code",
      "source": [
        "!ls"
      ],
      "metadata": {
        "colab": {
          "base_uri": "https://localhost:8080/"
        },
        "id": "g6EVIHU7G-1P",
        "outputId": "1ccb6a4e-38d0-4517-c75b-9ec108a22a18"
      },
      "execution_count": 3,
      "outputs": [
        {
          "output_type": "stream",
          "name": "stdout",
          "text": [
            "sample_data  spectra\n"
          ]
        }
      ]
    },
    {
      "cell_type": "code",
      "source": [
        "%cd spectra"
      ],
      "metadata": {
        "colab": {
          "base_uri": "https://localhost:8080/"
        },
        "id": "s5GFodIgG-3-",
        "outputId": "eccfb859-b82e-4fe4-9fea-584f42618e71"
      },
      "execution_count": 4,
      "outputs": [
        {
          "output_type": "stream",
          "name": "stdout",
          "text": [
            "/content/spectra\n"
          ]
        }
      ]
    },
    {
      "cell_type": "code",
      "source": [
        "!pip install ."
      ],
      "metadata": {
        "colab": {
          "base_uri": "https://localhost:8080/"
        },
        "id": "W9hy0-yiH6tQ",
        "outputId": "63646ac7-f11a-42cc-94f5-b720e9cc3d37"
      },
      "execution_count": 5,
      "outputs": [
        {
          "output_type": "stream",
          "name": "stdout",
          "text": [
            "Looking in indexes: https://pypi.org/simple, https://us-python.pkg.dev/colab-wheels/public/simple/\n",
            "Processing /content/spectra\n",
            "  Preparing metadata (setup.py) ... \u001b[?25l\u001b[?25hdone\n",
            "Requirement already satisfied: numpy>=1.20.3 in /usr/local/lib/python3.8/dist-packages (from spectra==0.1.0) (1.21.6)\n",
            "Requirement already satisfied: scipy>=1.7.3 in /usr/local/lib/python3.8/dist-packages (from spectra==0.1.0) (1.7.3)\n",
            "Requirement already satisfied: scanpy>=1.8.2 in /usr/local/lib/python3.8/dist-packages (from spectra==0.1.0) (1.9.1)\n",
            "Requirement already satisfied: torch>=1.10.1 in /usr/local/lib/python3.8/dist-packages (from spectra==0.1.0) (1.13.1+cu116)\n",
            "Requirement already satisfied: opt-einsum>=3.3.0 in /usr/local/lib/python3.8/dist-packages (from spectra==0.1.0) (3.3.0)\n",
            "Requirement already satisfied: pandas>=1.3.5 in /usr/local/lib/python3.8/dist-packages (from spectra==0.1.0) (1.3.5)\n",
            "Requirement already satisfied: tqdm>=4.62.3 in /usr/local/lib/python3.8/dist-packages (from spectra==0.1.0) (4.64.1)\n",
            "Requirement already satisfied: pyvis>=0.1.9 in /usr/local/lib/python3.8/dist-packages (from spectra==0.1.0) (0.3.1)\n",
            "Requirement already satisfied: pytz>=2017.3 in /usr/local/lib/python3.8/dist-packages (from pandas>=1.3.5->spectra==0.1.0) (2022.7.1)\n",
            "Requirement already satisfied: python-dateutil>=2.7.3 in /usr/local/lib/python3.8/dist-packages (from pandas>=1.3.5->spectra==0.1.0) (2.8.2)\n",
            "Requirement already satisfied: jsonpickle>=1.4.1 in /usr/local/lib/python3.8/dist-packages (from pyvis>=0.1.9->spectra==0.1.0) (3.0.1)\n",
            "Requirement already satisfied: ipython>=5.3.0 in /usr/local/lib/python3.8/dist-packages (from pyvis>=0.1.9->spectra==0.1.0) (7.9.0)\n",
            "Requirement already satisfied: jinja2>=2.9.6 in /usr/local/lib/python3.8/dist-packages (from pyvis>=0.1.9->spectra==0.1.0) (2.11.3)\n",
            "Requirement already satisfied: networkx>=1.11 in /usr/local/lib/python3.8/dist-packages (from pyvis>=0.1.9->spectra==0.1.0) (3.0)\n",
            "Requirement already satisfied: anndata>=0.7.4 in /usr/local/lib/python3.8/dist-packages (from scanpy>=1.8.2->spectra==0.1.0) (0.8.0)\n",
            "Requirement already satisfied: h5py>=3 in /usr/local/lib/python3.8/dist-packages (from scanpy>=1.8.2->spectra==0.1.0) (3.1.0)\n",
            "Requirement already satisfied: scikit-learn>=0.22 in /usr/local/lib/python3.8/dist-packages (from scanpy>=1.8.2->spectra==0.1.0) (1.0.2)\n",
            "Requirement already satisfied: umap-learn>=0.3.10 in /usr/local/lib/python3.8/dist-packages (from scanpy>=1.8.2->spectra==0.1.0) (0.5.3)\n",
            "Requirement already satisfied: numba>=0.41.0 in /usr/local/lib/python3.8/dist-packages (from scanpy>=1.8.2->spectra==0.1.0) (0.56.4)\n",
            "Requirement already satisfied: statsmodels>=0.10.0rc2 in /usr/local/lib/python3.8/dist-packages (from scanpy>=1.8.2->spectra==0.1.0) (0.12.2)\n",
            "Requirement already satisfied: seaborn in /usr/local/lib/python3.8/dist-packages (from scanpy>=1.8.2->spectra==0.1.0) (0.11.2)\n",
            "Requirement already satisfied: session-info in /usr/local/lib/python3.8/dist-packages (from scanpy>=1.8.2->spectra==0.1.0) (1.0.0)\n",
            "Requirement already satisfied: matplotlib>=3.4 in /usr/local/lib/python3.8/dist-packages (from scanpy>=1.8.2->spectra==0.1.0) (3.5.0)\n",
            "Requirement already satisfied: patsy in /usr/local/lib/python3.8/dist-packages (from scanpy>=1.8.2->spectra==0.1.0) (0.5.3)\n",
            "Requirement already satisfied: natsort in /usr/local/lib/python3.8/dist-packages (from scanpy>=1.8.2->spectra==0.1.0) (5.5.0)\n",
            "Requirement already satisfied: joblib in /usr/local/lib/python3.8/dist-packages (from scanpy>=1.8.2->spectra==0.1.0) (1.2.0)\n",
            "Requirement already satisfied: packaging in /usr/local/lib/python3.8/dist-packages (from scanpy>=1.8.2->spectra==0.1.0) (23.0)\n",
            "Requirement already satisfied: typing-extensions in /usr/local/lib/python3.8/dist-packages (from torch>=1.10.1->spectra==0.1.0) (4.4.0)\n",
            "Requirement already satisfied: decorator in /usr/local/lib/python3.8/dist-packages (from ipython>=5.3.0->pyvis>=0.1.9->spectra==0.1.0) (4.4.2)\n",
            "Requirement already satisfied: pexpect in /usr/local/lib/python3.8/dist-packages (from ipython>=5.3.0->pyvis>=0.1.9->spectra==0.1.0) (4.8.0)\n",
            "Requirement already satisfied: setuptools>=18.5 in /usr/local/lib/python3.8/dist-packages (from ipython>=5.3.0->pyvis>=0.1.9->spectra==0.1.0) (57.4.0)\n",
            "Requirement already satisfied: backcall in /usr/local/lib/python3.8/dist-packages (from ipython>=5.3.0->pyvis>=0.1.9->spectra==0.1.0) (0.2.0)\n",
            "Requirement already satisfied: jedi>=0.10 in /usr/local/lib/python3.8/dist-packages (from ipython>=5.3.0->pyvis>=0.1.9->spectra==0.1.0) (0.18.2)\n",
            "Requirement already satisfied: pygments in /usr/local/lib/python3.8/dist-packages (from ipython>=5.3.0->pyvis>=0.1.9->spectra==0.1.0) (2.6.1)\n",
            "Requirement already satisfied: traitlets>=4.2 in /usr/local/lib/python3.8/dist-packages (from ipython>=5.3.0->pyvis>=0.1.9->spectra==0.1.0) (5.7.1)\n",
            "Requirement already satisfied: pickleshare in /usr/local/lib/python3.8/dist-packages (from ipython>=5.3.0->pyvis>=0.1.9->spectra==0.1.0) (0.7.5)\n",
            "Requirement already satisfied: prompt-toolkit<2.1.0,>=2.0.0 in /usr/local/lib/python3.8/dist-packages (from ipython>=5.3.0->pyvis>=0.1.9->spectra==0.1.0) (2.0.10)\n",
            "Requirement already satisfied: MarkupSafe>=0.23 in /usr/local/lib/python3.8/dist-packages (from jinja2>=2.9.6->pyvis>=0.1.9->spectra==0.1.0) (2.0.1)\n",
            "Requirement already satisfied: fonttools>=4.22.0 in /usr/local/lib/python3.8/dist-packages (from matplotlib>=3.4->scanpy>=1.8.2->spectra==0.1.0) (4.38.0)\n",
            "Requirement already satisfied: pyparsing>=2.2.1 in /usr/local/lib/python3.8/dist-packages (from matplotlib>=3.4->scanpy>=1.8.2->spectra==0.1.0) (3.0.9)\n",
            "Requirement already satisfied: pillow>=6.2.0 in /usr/local/lib/python3.8/dist-packages (from matplotlib>=3.4->scanpy>=1.8.2->spectra==0.1.0) (7.1.2)\n",
            "Requirement already satisfied: kiwisolver>=1.0.1 in /usr/local/lib/python3.8/dist-packages (from matplotlib>=3.4->scanpy>=1.8.2->spectra==0.1.0) (1.4.4)\n",
            "Requirement already satisfied: setuptools-scm>=4 in /usr/local/lib/python3.8/dist-packages (from matplotlib>=3.4->scanpy>=1.8.2->spectra==0.1.0) (7.1.0)\n",
            "Requirement already satisfied: cycler>=0.10 in /usr/local/lib/python3.8/dist-packages (from matplotlib>=3.4->scanpy>=1.8.2->spectra==0.1.0) (0.11.0)\n",
            "Requirement already satisfied: llvmlite<0.40,>=0.39.0dev0 in /usr/local/lib/python3.8/dist-packages (from numba>=0.41.0->scanpy>=1.8.2->spectra==0.1.0) (0.39.1)\n",
            "Requirement already satisfied: importlib-metadata in /usr/local/lib/python3.8/dist-packages (from numba>=0.41.0->scanpy>=1.8.2->spectra==0.1.0) (6.0.0)\n",
            "Requirement already satisfied: six>=1.5 in /usr/local/lib/python3.8/dist-packages (from python-dateutil>=2.7.3->pandas>=1.3.5->spectra==0.1.0) (1.15.0)\n",
            "Requirement already satisfied: threadpoolctl>=2.0.0 in /usr/local/lib/python3.8/dist-packages (from scikit-learn>=0.22->scanpy>=1.8.2->spectra==0.1.0) (3.1.0)\n",
            "Requirement already satisfied: pynndescent>=0.5 in /usr/local/lib/python3.8/dist-packages (from umap-learn>=0.3.10->scanpy>=1.8.2->spectra==0.1.0) (0.5.8)\n",
            "Requirement already satisfied: stdlib-list in /usr/local/lib/python3.8/dist-packages (from session-info->scanpy>=1.8.2->spectra==0.1.0) (0.8.0)\n",
            "Requirement already satisfied: parso<0.9.0,>=0.8.0 in /usr/local/lib/python3.8/dist-packages (from jedi>=0.10->ipython>=5.3.0->pyvis>=0.1.9->spectra==0.1.0) (0.8.3)\n",
            "Requirement already satisfied: wcwidth in /usr/local/lib/python3.8/dist-packages (from prompt-toolkit<2.1.0,>=2.0.0->ipython>=5.3.0->pyvis>=0.1.9->spectra==0.1.0) (0.2.6)\n",
            "Requirement already satisfied: tomli>=1.0.0 in /usr/local/lib/python3.8/dist-packages (from setuptools-scm>=4->matplotlib>=3.4->scanpy>=1.8.2->spectra==0.1.0) (2.0.1)\n",
            "Requirement already satisfied: zipp>=0.5 in /usr/local/lib/python3.8/dist-packages (from importlib-metadata->numba>=0.41.0->scanpy>=1.8.2->spectra==0.1.0) (3.12.0)\n",
            "Requirement already satisfied: ptyprocess>=0.5 in /usr/local/lib/python3.8/dist-packages (from pexpect->ipython>=5.3.0->pyvis>=0.1.9->spectra==0.1.0) (0.7.0)\n",
            "Building wheels for collected packages: spectra\n",
            "  Building wheel for spectra (setup.py) ... \u001b[?25l\u001b[?25hdone\n",
            "  Created wheel for spectra: filename=spectra-0.1.0-py3-none-any.whl size=30021 sha256=c083862673cab1d19fdfd513854c63ca8acd177ffe6c872f005ff8c1e83812eb\n",
            "  Stored in directory: /tmp/pip-ephem-wheel-cache-jp6tbqnc/wheels/7d/2a/d8/aee9bb70f56a7c3839c9e3f2489c721678a1d0af7d9be17623\n",
            "Successfully built spectra\n",
            "Installing collected packages: spectra\n",
            "  Attempting uninstall: spectra\n",
            "    Found existing installation: spectra 0.1.0\n",
            "    Uninstalling spectra-0.1.0:\n",
            "      Successfully uninstalled spectra-0.1.0\n",
            "Successfully installed spectra-0.1.0\n"
          ]
        }
      ]
    },
    {
      "cell_type": "code",
      "source": [
        "%pip install -U matplotlib==3.5.0"
      ],
      "metadata": {
        "colab": {
          "base_uri": "https://localhost:8080/"
        },
        "id": "GQFeb6lhIWR0",
        "outputId": "fc08ee9d-d46a-4263-a75b-66a3649a0ea9"
      },
      "execution_count": 6,
      "outputs": [
        {
          "output_type": "stream",
          "name": "stdout",
          "text": [
            "Looking in indexes: https://pypi.org/simple, https://us-python.pkg.dev/colab-wheels/public/simple/\n",
            "Requirement already satisfied: matplotlib==3.5.0 in /usr/local/lib/python3.8/dist-packages (3.5.0)\n",
            "Requirement already satisfied: cycler>=0.10 in /usr/local/lib/python3.8/dist-packages (from matplotlib==3.5.0) (0.11.0)\n",
            "Requirement already satisfied: pyparsing>=2.2.1 in /usr/local/lib/python3.8/dist-packages (from matplotlib==3.5.0) (3.0.9)\n",
            "Requirement already satisfied: setuptools-scm>=4 in /usr/local/lib/python3.8/dist-packages (from matplotlib==3.5.0) (7.1.0)\n",
            "Requirement already satisfied: fonttools>=4.22.0 in /usr/local/lib/python3.8/dist-packages (from matplotlib==3.5.0) (4.38.0)\n",
            "Requirement already satisfied: packaging>=20.0 in /usr/local/lib/python3.8/dist-packages (from matplotlib==3.5.0) (23.0)\n",
            "Requirement already satisfied: python-dateutil>=2.7 in /usr/local/lib/python3.8/dist-packages (from matplotlib==3.5.0) (2.8.2)\n",
            "Requirement already satisfied: numpy>=1.17 in /usr/local/lib/python3.8/dist-packages (from matplotlib==3.5.0) (1.21.6)\n",
            "Requirement already satisfied: kiwisolver>=1.0.1 in /usr/local/lib/python3.8/dist-packages (from matplotlib==3.5.0) (1.4.4)\n",
            "Requirement already satisfied: pillow>=6.2.0 in /usr/local/lib/python3.8/dist-packages (from matplotlib==3.5.0) (7.1.2)\n",
            "Requirement already satisfied: six>=1.5 in /usr/local/lib/python3.8/dist-packages (from python-dateutil>=2.7->matplotlib==3.5.0) (1.15.0)\n",
            "Requirement already satisfied: typing-extensions in /usr/local/lib/python3.8/dist-packages (from setuptools-scm>=4->matplotlib==3.5.0) (4.4.0)\n",
            "Requirement already satisfied: tomli>=1.0.0 in /usr/local/lib/python3.8/dist-packages (from setuptools-scm>=4->matplotlib==3.5.0) (2.0.1)\n",
            "Requirement already satisfied: setuptools in /usr/local/lib/python3.8/dist-packages (from setuptools-scm>=4->matplotlib==3.5.0) (57.4.0)\n"
          ]
        }
      ]
    },
    {
      "cell_type": "code",
      "source": [
        "from spectra import spectra as spc"
      ],
      "metadata": {
        "id": "uUhGZevNHjzd"
      },
      "execution_count": 7,
      "outputs": []
    },
    {
      "cell_type": "code",
      "source": [
        "#import packages\n",
        "import numpy as np\n",
        "import json \n",
        "import scanpy as sc\n",
        "from collections import OrderedDict\n",
        "import scipy \n",
        "import pandas as pd\n",
        "\n",
        "#spectra imports \n",
        "from spectra import spectra as spc\n",
        "from spectra import spectra_util as util\n",
        "from spectra import K_est as kst\n",
        "\n"
      ],
      "metadata": {
        "id": "WEf_XV5Vxf-I"
      },
      "execution_count": 8,
      "outputs": []
    },
    {
      "cell_type": "code",
      "source": [
        "def get_factor_celltypes(adata, obs_key, cellscore_obsm_key = 'SPECTRA_cell_scores'):\n",
        "    '''\n",
        "    Assigns Spectra factors to cell types by analyzing the factor cell scores.\n",
        "    Cell type specific factors will have zero cell scores except in their respective cell type\n",
        "    \n",
        "    adata: AnnData , object containing the Spectra output\n",
        "    obs_key: str , column name in adata.obs containing the cell type annotations\n",
        "    cellscore_obsm_key: str , key for adata.obsm containing the Spectra cell scores\n",
        "    \n",
        "    returns: dict , dictionary of {factor index : 'cell type'}\n",
        "    '''\n",
        "    \n",
        "    #get cellscores\n",
        "    import pandas as pd\n",
        "    cell_scores_df = pd.DataFrame(adata.obsm[cellscore_obsm_key])\n",
        "    cell_scores_df['celltype'] = list(adata.obs[obs_key])\n",
        "    \n",
        "    #find global and cell type specific fators\n",
        "    global_factors_series = (cell_scores_df.groupby('celltype').mean() !=0).all()\n",
        "    global_factors = [factor for factor in global_factors_series.index if global_factors_series[factor]]\n",
        "    specific_cell_scores = (cell_scores_df.groupby('celltype').mean()).T[~global_factors_series].T\n",
        "    specific_factors = {}\n",
        "    \n",
        "    for i in set(cell_scores_df['celltype']):\n",
        "        specific_factors[i]=[factor for factor in specific_cell_scores.loc[i].index if specific_cell_scores.loc[i,factor]]\n",
        "    \n",
        "    #inverse dict factor:celltype\n",
        "    factors_inv = {}\n",
        "    for i,v in specific_factors.items():\n",
        "        for factor in v:\n",
        "            factors_inv[factor]=i\n",
        "    \n",
        "    #add global\n",
        "\n",
        "    for factor in global_factors:\n",
        "        factors_inv[factor]= 'global'\n",
        "            \n",
        "    return factors_inv"
      ],
      "metadata": {
        "id": "PJFA769rxySi"
      },
      "execution_count": 9,
      "outputs": []
    },
    {
      "cell_type": "code",
      "source": [
        "def check_gene_set_dictionary(adata, annotations, obs_key='cell_type_annotations',global_key='global', return_dict = True):\n",
        "    '''\n",
        "    Filters annotations dictionary contains only genes contained in the adata. \n",
        "    Checks that annotations dictionary cell type keys and adata cell types are identical.\n",
        "    Checks that all gene sets in annotations dictionary contain >2 genes after filtering.\n",
        "    \n",
        "    adata: AnnData , data to use with Spectra\n",
        "    annotations: dict , gene set annotations dictionary to use with Spectra\n",
        "    obs_key: str , column name for cell type annotations in adata.obs\n",
        "    global_key: str , key for global gene sests in gene set annotation dictionary\n",
        "    return_dict: bool , return filtered gene set annotation dictionary\n",
        "    \n",
        "    returns: dict , filtered gene set annotation dictionary\n",
        "    \n",
        "    '''\n",
        "    #test if keys match\n",
        "    adata_labels  = list(set(adata.obs[obs_key]))+['global']#cell type labels in adata object\n",
        "    annotation_labels = list(annotations.keys())\n",
        "    matching_celltype_labels = list(set(adata_labels).intersection(annotation_labels))\n",
        "    if set(annotation_labels)==set(adata_labels):\n",
        "        print('Cell type labels in gene set annotation dictionary and AnnData object are identical')\n",
        "        dict_keys_OK = True\n",
        "    if len(annotation_labels)<len(adata_labels):\n",
        "        print('The following labels are missing in the gene set annotation dictionary:',set(adata_labels)-set(annotation_labels))\n",
        "        dict_keys_OK = False\n",
        "    if len(adata_labels)<len(annotation_labels):\n",
        "        print('The following labels are missing in the AnnData object:',set(annotation_labels)-set(adata_labels))\n",
        "        dict_keys_OK = False\n",
        "        \n",
        "    #check that gene sets in dictionary have len >2\n",
        "    Counter = 0\n",
        "    annotations_new = {}\n",
        "    for k,v in annotations.items():\n",
        "        annotations_new[k] = {}\n",
        "        for k2,v2 in v.items():\n",
        "            annotations_new[k][k2]= [x for x in v2 if x in adata.var_names]\n",
        "            length = len(v2)\n",
        "            if length<3:\n",
        "                print('gene set',k2,'for cell type',k,'is of length',length)\n",
        "                Counter = Counter+1\n",
        "            \n",
        "    if Counter > 0:\n",
        "        print(Counter,'gene sets are too small. Gene sets must contain at least 3 genes')\n",
        "    elif Counter == 0 and dict_keys_OK:\n",
        "        print('Your gene set annotation dictionary is correctly formatted.')\n",
        "    if return_dict:\n",
        "        return annotations_new"
      ],
      "metadata": {
        "id": "6htuiSo0xz2w"
      },
      "execution_count": 10,
      "outputs": []
    },
    {
      "cell_type": "code",
      "source": [
        "#load the default gene set dictionary from the Spectra paper:\n",
        "import os\n",
        "dict_path ='/content/spectra/data/Spectra_dict.json'\n",
        "with open(dict_path, \"rb\") as file:\n",
        "    annotations = json.load(file)"
      ],
      "metadata": {
        "id": "X4QL5M0ax1rc"
      },
      "execution_count": 11,
      "outputs": []
    },
    {
      "cell_type": "code",
      "source": [
        "annotations[\"global\"][\"all_wnt-beta-catenin-signaling\"]"
      ],
      "metadata": {
        "colab": {
          "base_uri": "https://localhost:8080/"
        },
        "id": "GLttFF8Lx3_3",
        "outputId": "68224df1-0a42-4201-a6c3-4b91fde89213"
      },
      "execution_count": 12,
      "outputs": [
        {
          "output_type": "execute_result",
          "data": {
            "text/plain": [
              "['HDAC2',\n",
              " 'LEF1',\n",
              " 'CUL1',\n",
              " 'TP53',\n",
              " 'GNAI1',\n",
              " 'DLL1',\n",
              " 'SKP2',\n",
              " 'AXIN1',\n",
              " 'KAT2A',\n",
              " 'CSNK1E',\n",
              " 'MAML1',\n",
              " 'FZD8',\n",
              " 'NOTCH1',\n",
              " 'MYC',\n",
              " 'RBPJ',\n",
              " 'JAG2',\n",
              " 'PTCH1',\n",
              " 'PPARD',\n",
              " 'HDAC5',\n",
              " 'AXIN2',\n",
              " 'NUMB',\n",
              " 'PSEN2',\n",
              " 'NKD1',\n",
              " 'WNT1',\n",
              " 'TCF7',\n",
              " 'FRAT1',\n",
              " 'HDAC11',\n",
              " 'ADAM17',\n",
              " 'CCND2',\n",
              " 'HEY1',\n",
              " 'NCSTN',\n",
              " 'JAG1',\n",
              " 'DVL2',\n",
              " 'NOTCH4',\n",
              " 'NCOR2',\n",
              " 'TPTEP2-CSNK1E',\n",
              " 'FZD1',\n",
              " 'CTNNB1',\n",
              " 'DKK4',\n",
              " 'HEY2',\n",
              " 'WNT6',\n",
              " 'DKK1',\n",
              " 'WNT5B']"
            ]
          },
          "metadata": {},
          "execution_count": 12
        }
      ]
    },
    {
      "cell_type": "code",
      "source": [
        "#define data paths\n",
        "adata_path = '/content/spectra/data/sample_data.h5ad'#indicate where to find the gene expression AnnData object\n",
        "obs_key = 'cell_type_annotations' #indicat the column name for the dataframe in adata.obs where to find the cell type lab"
      ],
      "metadata": {
        "id": "75tKPam6yCoz"
      },
      "execution_count": 13,
      "outputs": []
    },
    {
      "cell_type": "code",
      "source": [
        "#load data\n",
        "adata = sc.read(adata_path)\n",
        "adata"
      ],
      "metadata": {
        "colab": {
          "base_uri": "https://localhost:8080/"
        },
        "id": "mdoNNI4XyHlk",
        "outputId": "8df2ac70-25e6-4d49-adb0-e9ac2ad7df9f"
      },
      "execution_count": 14,
      "outputs": [
        {
          "output_type": "execute_result",
          "data": {
            "text/plain": [
              "AnnData object with n_obs × n_vars = 10000 × 6397\n",
              "    obs: 'cell_type_annotations'\n",
              "    var: 'n_cells_by_counts', 'highly_variable'\n",
              "    uns: 'annotation_SPADE_1_colors', 'cell_type_annotations_colors', 'diffmap_evals', 'draw_graph', 'hvg', 'neighbors', 'pca'\n",
              "    obsm: 'X_diffmap', 'X_draw_graph_fa', 'X_pca', 'X_tsne', 'X_umap'\n",
              "    varm: 'PCs'\n",
              "    obsp: 'connectivities', 'distances'"
            ]
          },
          "metadata": {},
          "execution_count": 14
        }
      ]
    },
    {
      "cell_type": "code",
      "source": [
        "#filter gene set annotation dict for genes contained in adata\n",
        "annotations = check_gene_set_dictionary(adata, annotations, obs_key='cell_type_annotations',global_key='global')"
      ],
      "metadata": {
        "colab": {
          "base_uri": "https://localhost:8080/"
        },
        "id": "PDOrKMD8yI_i",
        "outputId": "ea877695-6ad3-44f3-84d7-eea0770769c3"
      },
      "execution_count": 15,
      "outputs": [
        {
          "output_type": "stream",
          "name": "stdout",
          "text": [
            "Cell type labels in gene set annotation dictionary and AnnData object are identical\n",
            "Your gene set annotation dictionary is correctly formatted.\n"
          ]
        }
      ]
    },
    {
      "cell_type": "code",
      "source": [
        "#cell type labels in adata\n",
        "list(set(adata.obs[obs_key]))"
      ],
      "metadata": {
        "colab": {
          "base_uri": "https://localhost:8080/"
        },
        "id": "4FDWzBwXymHu",
        "outputId": "48d2a561-bfda-46cd-bfd0-dac323b2a0c2"
      },
      "execution_count": 16,
      "outputs": [
        {
          "output_type": "execute_result",
          "data": {
            "text/plain": [
              "['DC',\n",
              " 'B_GC',\n",
              " 'MDC',\n",
              " 'CD8_T',\n",
              " 'B_naive',\n",
              " 'plasma',\n",
              " 'CD4_T',\n",
              " 'Treg',\n",
              " 'pDC',\n",
              " 'B_memory',\n",
              " 'gdT',\n",
              " 'mast',\n",
              " 'NK',\n",
              " 'ILC3']"
            ]
          },
          "metadata": {},
          "execution_count": 16
        }
      ]
    },
    {
      "cell_type": "code",
      "source": [
        "#cell type in gene set annotation dictionary\n",
        "list(set(annotations.keys()))"
      ],
      "metadata": {
        "colab": {
          "base_uri": "https://localhost:8080/"
        },
        "id": "lH4on6YRynsN",
        "outputId": "d35e93b9-f664-4357-aa06-7226fc79f92f"
      },
      "execution_count": 17,
      "outputs": [
        {
          "output_type": "execute_result",
          "data": {
            "text/plain": [
              "['DC',\n",
              " 'B_GC',\n",
              " 'MDC',\n",
              " 'CD8_T',\n",
              " 'B_naive',\n",
              " 'plasma',\n",
              " 'CD4_T',\n",
              " 'global',\n",
              " 'Treg',\n",
              " 'pDC',\n",
              " 'B_memory',\n",
              " 'gdT',\n",
              " 'mast',\n",
              " 'NK',\n",
              " 'ILC3']"
            ]
          },
          "metadata": {},
          "execution_count": 17
        }
      ]
    },
    {
      "cell_type": "code",
      "source": [
        "#filter gene set annotation dict for genes contained in adata\n",
        "annotations = check_gene_set_dictionary(adata, annotations, obs_key='cell_type_annotations',global_key='global')"
      ],
      "metadata": {
        "colab": {
          "base_uri": "https://localhost:8080/"
        },
        "id": "DNY50iPdyo_5",
        "outputId": "8087f83e-9394-4bee-fa99-9be07ff288e9"
      },
      "execution_count": 18,
      "outputs": [
        {
          "output_type": "stream",
          "name": "stdout",
          "text": [
            "Cell type labels in gene set annotation dictionary and AnnData object are identical\n",
            "Your gene set annotation dictionary is correctly formatted.\n"
          ]
        }
      ]
    },
    {
      "cell_type": "code",
      "source": [
        "#fit the model (We will run this with only 2 epochs to decrease runtime in this tutorial)\n",
        "model = spc.est_spectra(adata = adata, gene_set_dictionary = annotations['global'], # because we do not use the cell types\n",
        "                                                                                    # we will supply a regular dict\n",
        "                                                                                    # instead of the nested dict above\n",
        "                        use_highly_variable = True, cell_type_key =None,# \"cell_type_annotations\" \n",
        "                        use_weights = True, lam = 0.1, \n",
        "                        delta=0.001,kappa = 0.00001, rho = 0.00001, \n",
        "                        use_cell_types = False, #set to False to not use the cell type annotations\n",
        "                        n_top_vals = 25, \n",
        "                        num_epochs=2 #for demonstration purposes we will only run 2 epochs, we recommend 10,000 epochs\n",
        "                       )\n",
        "\n"
      ],
      "metadata": {
        "colab": {
          "base_uri": "https://localhost:8080/"
        },
        "id": "i539dhsFyrX3",
        "outputId": "c4959bb8-707f-450e-883e-e333ad5331e7"
      },
      "execution_count": 19,
      "outputs": [
        {
          "output_type": "stream",
          "name": "stderr",
          "text": [
            "100%|██████████| 2/2 [00:14<00:00,  7.44s/it]\n"
          ]
        }
      ]
    },
    {
      "cell_type": "code",
      "source": [
        "del model"
      ],
      "metadata": {
        "id": "ukgyL9w51F0E"
      },
      "execution_count": 20,
      "outputs": []
    },
    {
      "cell_type": "code",
      "source": [
        "#fit the model (We will run this with only 2 epochs to decrease runtime in this tutorial)\n",
        "model = spc.est_spectra(adata = adata, gene_set_dictionary = annotations, \n",
        "                        use_highly_variable = True, cell_type_key = \"cell_type_annotations\", \n",
        "                        use_weights = True, lam = 0.1, \n",
        "                        delta=0.001,kappa = 0.00001, rho = 0.00001, \n",
        "                        use_cell_types = True, n_top_vals = 25, \n",
        "                        num_epochs=2 #for demonstration purposes we will only run 2 epochs, we recommend 10,000 epochs\n",
        "                       )"
      ],
      "metadata": {
        "id": "EEQ6dDFsywZy",
        "colab": {
          "base_uri": "https://localhost:8080/"
        },
        "outputId": "733e59e1-ea19-44ce-b6ab-c7fdb024e4b3"
      },
      "execution_count": 21,
      "outputs": [
        {
          "output_type": "stream",
          "name": "stderr",
          "text": [
            "100%|██████████| 2/2 [00:51<00:00, 25.65s/it]\n"
          ]
        }
      ]
    },
    {
      "cell_type": "code",
      "source": [
        "#this is the model file which includes all outputs\n",
        "dir(model)"
      ],
      "metadata": {
        "id": "Ar_34e8nyzFz",
        "colab": {
          "base_uri": "https://localhost:8080/"
        },
        "outputId": "2bd7fa7e-267c-4e18-e94a-49589c17de6b"
      },
      "execution_count": 22,
      "outputs": [
        {
          "output_type": "execute_result",
          "data": {
            "text/plain": [
              "['B_diag',\n",
              " 'L',\n",
              " '_SPECTRA_Model__B_diag',\n",
              " '_SPECTRA_Model__eta_matrices',\n",
              " '_SPECTRA_Model__store_parameters',\n",
              " '_SPECTRA_Model__store_parameters_no_celltypes',\n",
              " '__class__',\n",
              " '__delattr__',\n",
              " '__dict__',\n",
              " '__dir__',\n",
              " '__doc__',\n",
              " '__eq__',\n",
              " '__format__',\n",
              " '__ge__',\n",
              " '__getattribute__',\n",
              " '__gt__',\n",
              " '__hash__',\n",
              " '__init__',\n",
              " '__init_subclass__',\n",
              " '__le__',\n",
              " '__lt__',\n",
              " '__module__',\n",
              " '__ne__',\n",
              " '__new__',\n",
              " '__reduce__',\n",
              " '__reduce_ex__',\n",
              " '__repr__',\n",
              " '__setattr__',\n",
              " '__sizeof__',\n",
              " '__str__',\n",
              " '__subclasshook__',\n",
              " '__weakref__',\n",
              " 'cell_scores',\n",
              " 'delta',\n",
              " 'eta_matrices',\n",
              " 'factors',\n",
              " 'gene_scalings',\n",
              " 'initialize',\n",
              " 'internal_model',\n",
              " 'kappa',\n",
              " 'lam',\n",
              " 'load',\n",
              " 'matching',\n",
              " 'return_cell_scores',\n",
              " 'return_eta',\n",
              " 'return_eta_diag',\n",
              " 'return_factors',\n",
              " 'return_gene_scalings',\n",
              " 'return_graph',\n",
              " 'return_kappa',\n",
              " 'return_rho',\n",
              " 'rho',\n",
              " 'save',\n",
              " 'train',\n",
              " 'use_cell_types']"
            ]
          },
          "metadata": {},
          "execution_count": 22
        }
      ]
    },
    {
      "cell_type": "code",
      "source": [
        "#save the model file\n",
        "model_save_path = 'example_model'\n",
        "model.save(model_save_path)\n",
        "print('Saved Spectra model to:',model_save_path)   "
      ],
      "metadata": {
        "id": "V96MD2JNy1l9",
        "colab": {
          "base_uri": "https://localhost:8080/"
        },
        "outputId": "437efec0-d03c-4128-964e-32acced867bd"
      },
      "execution_count": 23,
      "outputs": [
        {
          "output_type": "stream",
          "name": "stdout",
          "text": [
            "Saved Spectra model to: example_model\n"
          ]
        }
      ]
    },
    {
      "cell_type": "code",
      "source": [
        "#the adata will contain the most important outputs from the Spectra model \n",
        "adata"
      ],
      "metadata": {
        "id": "DIwXb_1ty65g",
        "colab": {
          "base_uri": "https://localhost:8080/"
        },
        "outputId": "df7a45f3-7ba6-40e6-ffcd-7253eca6f9ca"
      },
      "execution_count": 24,
      "outputs": [
        {
          "output_type": "execute_result",
          "data": {
            "text/plain": [
              "AnnData object with n_obs × n_vars = 10000 × 6397\n",
              "    obs: 'cell_type_annotations'\n",
              "    var: 'n_cells_by_counts', 'highly_variable', 'spectra_vocab'\n",
              "    uns: 'annotation_SPADE_1_colors', 'cell_type_annotations_colors', 'diffmap_evals', 'draw_graph', 'hvg', 'neighbors', 'pca', 'SPECTRA_factors', 'SPECTRA_markers', 'SPECTRA_L'\n",
              "    obsm: 'X_diffmap', 'X_draw_graph_fa', 'X_pca', 'X_tsne', 'X_umap', 'SPECTRA_cell_scores'\n",
              "    varm: 'PCs'\n",
              "    obsp: 'connectivities', 'distances'"
            ]
          },
          "metadata": {},
          "execution_count": 24
        }
      ]
    },
    {
      "cell_type": "code",
      "source": [
        "#find the markers under adata.uns['SPECTRA_markers']\n",
        "adata.uns['SPECTRA_markers']"
      ],
      "metadata": {
        "id": "5k2f1CbZy68U",
        "colab": {
          "base_uri": "https://localhost:8080/"
        },
        "outputId": "116256e6-c053-4ebc-8e13-c90f6e8f948e"
      },
      "execution_count": 25,
      "outputs": [
        {
          "output_type": "execute_result",
          "data": {
            "text/plain": [
              "array([['BTD', 'HLCS', 'SLC5A6', ..., 'MPC2', 'CDKN3', 'IGFBP5'],\n",
              "       ['GUK1', 'HPRT1', 'AK1', ..., 'SLC28A3', 'ALOX15', 'TRIM21'],\n",
              "       ['AOX1', 'ZADH2', 'ALDH1A1', ..., 'CDC42EP1', 'DERL2', 'SATB1'],\n",
              "       ...,\n",
              "       ['RNF145', 'OTULINL', 'ZAP70', ..., 'XBP1', 'AC013264.1',\n",
              "        'DCBLD2'],\n",
              "       ['AC012617.1', 'PLD4', 'NAPSA', ..., 'CYB561A3', 'MSI2', 'SHC1'],\n",
              "       ['POU2AF1', 'AMN1', 'SEC11C', ..., 'AL135790.1', 'SMPDL3A', 'PGR']],\n",
              "      dtype=object)"
            ]
          },
          "metadata": {},
          "execution_count": 25
        }
      ]
    },
    {
      "cell_type": "code",
      "source": [
        "#find the factors under adata.uns['SPECTRA_factors'] \n",
        "adata.uns['SPECTRA_factors']"
      ],
      "metadata": {
        "id": "aDKxRcpWy6_O",
        "colab": {
          "base_uri": "https://localhost:8080/"
        },
        "outputId": "61a3b901-d0a6-4e6b-9a47-3af6be9dc660"
      },
      "execution_count": 26,
      "outputs": [
        {
          "output_type": "execute_result",
          "data": {
            "text/plain": [
              "array([[4.35636414e-14, 5.45213188e-12, 2.07700376e-13, ...,\n",
              "        6.84046105e-14, 1.98389261e-12, 8.78715180e-13],\n",
              "       [2.00040256e-13, 7.32717398e-13, 4.67110198e-13, ...,\n",
              "        1.22820447e-13, 9.29412744e-14, 7.66761315e-12],\n",
              "       [8.88579541e-14, 5.94574704e-13, 1.34615898e-11, ...,\n",
              "        2.99572088e-14, 3.91166070e-13, 5.95030449e-12],\n",
              "       ...,\n",
              "       [1.43572862e-12, 5.53805154e-13, 9.75971001e-14, ...,\n",
              "        7.28435317e-14, 8.50926582e-13, 1.86419725e-13],\n",
              "       [4.78719723e-02, 3.67932754e-02, 3.45484814e-02, ...,\n",
              "        1.90221406e-02, 4.08841597e-02, 4.54031190e-02],\n",
              "       [1.08802315e-01, 4.46178172e-02, 4.21501074e-02, ...,\n",
              "        4.88965329e-02, 1.09336956e-02, 6.64826045e-02]])"
            ]
          },
          "metadata": {},
          "execution_count": 26
        }
      ]
    },
    {
      "cell_type": "code",
      "source": [
        "#it also includes a dictionary of the factor numbers per cell type\n",
        "adata.uns['SPECTRA_L']"
      ],
      "metadata": {
        "id": "fYzI1tK3y7B6",
        "colab": {
          "base_uri": "https://localhost:8080/"
        },
        "outputId": "5792aaf7-b3e5-4fce-821e-fc772938b24b"
      },
      "execution_count": 27,
      "outputs": [
        {
          "output_type": "execute_result",
          "data": {
            "text/plain": [
              "{'B_GC': 1,\n",
              " 'B_memory': 5,\n",
              " 'B_naive': 1,\n",
              " 'CD4_T': 12,\n",
              " 'CD8_T': 7,\n",
              " 'DC': 3,\n",
              " 'ILC3': 1,\n",
              " 'MDC': 6,\n",
              " 'NK': 1,\n",
              " 'Treg': 2,\n",
              " 'gdT': 1,\n",
              " 'mast': 2,\n",
              " 'pDC': 2,\n",
              " 'plasma': 1,\n",
              " 'global': 151}"
            ]
          },
          "metadata": {},
          "execution_count": 27
        }
      ]
    },
    {
      "cell_type": "code",
      "source": [
        "#get factor celltype labels (the cell type will likely be provided directly by the model in future versions)\n",
        "celltype_dict = get_factor_celltypes(adata, obs_key= obs_key, cellscore_obsm_key = 'SPECTRA_cell_scores')\n",
        "celltype_dict"
      ],
      "metadata": {
        "id": "DV0xG5Ady7EY",
        "colab": {
          "base_uri": "https://localhost:8080/"
        },
        "outputId": "67dc155a-06ce-4c16-b73b-76476e74083b"
      },
      "execution_count": 28,
      "outputs": [
        {
          "output_type": "execute_result",
          "data": {
            "text/plain": [
              "{177: 'DC',\n",
              " 178: 'DC',\n",
              " 179: 'DC',\n",
              " 151: 'B_GC',\n",
              " 181: 'MDC',\n",
              " 182: 'MDC',\n",
              " 183: 'MDC',\n",
              " 184: 'MDC',\n",
              " 185: 'MDC',\n",
              " 186: 'MDC',\n",
              " 170: 'CD8_T',\n",
              " 171: 'CD8_T',\n",
              " 172: 'CD8_T',\n",
              " 173: 'CD8_T',\n",
              " 174: 'CD8_T',\n",
              " 175: 'CD8_T',\n",
              " 176: 'CD8_T',\n",
              " 157: 'B_naive',\n",
              " 195: 'plasma',\n",
              " 158: 'CD4_T',\n",
              " 159: 'CD4_T',\n",
              " 160: 'CD4_T',\n",
              " 161: 'CD4_T',\n",
              " 162: 'CD4_T',\n",
              " 163: 'CD4_T',\n",
              " 164: 'CD4_T',\n",
              " 165: 'CD4_T',\n",
              " 166: 'CD4_T',\n",
              " 167: 'CD4_T',\n",
              " 168: 'CD4_T',\n",
              " 169: 'CD4_T',\n",
              " 188: 'Treg',\n",
              " 189: 'Treg',\n",
              " 193: 'pDC',\n",
              " 194: 'pDC',\n",
              " 152: 'B_memory',\n",
              " 153: 'B_memory',\n",
              " 154: 'B_memory',\n",
              " 155: 'B_memory',\n",
              " 156: 'B_memory',\n",
              " 190: 'gdT',\n",
              " 191: 'mast',\n",
              " 192: 'mast',\n",
              " 187: 'NK',\n",
              " 180: 'ILC3',\n",
              " 0: 'global',\n",
              " 1: 'global',\n",
              " 2: 'global',\n",
              " 3: 'global',\n",
              " 4: 'global',\n",
              " 5: 'global',\n",
              " 6: 'global',\n",
              " 7: 'global',\n",
              " 8: 'global',\n",
              " 9: 'global',\n",
              " 10: 'global',\n",
              " 11: 'global',\n",
              " 12: 'global',\n",
              " 13: 'global',\n",
              " 14: 'global',\n",
              " 15: 'global',\n",
              " 16: 'global',\n",
              " 17: 'global',\n",
              " 18: 'global',\n",
              " 19: 'global',\n",
              " 20: 'global',\n",
              " 21: 'global',\n",
              " 22: 'global',\n",
              " 23: 'global',\n",
              " 24: 'global',\n",
              " 25: 'global',\n",
              " 26: 'global',\n",
              " 27: 'global',\n",
              " 28: 'global',\n",
              " 29: 'global',\n",
              " 30: 'global',\n",
              " 31: 'global',\n",
              " 32: 'global',\n",
              " 33: 'global',\n",
              " 34: 'global',\n",
              " 35: 'global',\n",
              " 36: 'global',\n",
              " 37: 'global',\n",
              " 38: 'global',\n",
              " 39: 'global',\n",
              " 40: 'global',\n",
              " 41: 'global',\n",
              " 42: 'global',\n",
              " 43: 'global',\n",
              " 44: 'global',\n",
              " 45: 'global',\n",
              " 46: 'global',\n",
              " 47: 'global',\n",
              " 48: 'global',\n",
              " 49: 'global',\n",
              " 50: 'global',\n",
              " 51: 'global',\n",
              " 52: 'global',\n",
              " 53: 'global',\n",
              " 54: 'global',\n",
              " 55: 'global',\n",
              " 56: 'global',\n",
              " 57: 'global',\n",
              " 58: 'global',\n",
              " 59: 'global',\n",
              " 60: 'global',\n",
              " 61: 'global',\n",
              " 62: 'global',\n",
              " 63: 'global',\n",
              " 64: 'global',\n",
              " 65: 'global',\n",
              " 66: 'global',\n",
              " 67: 'global',\n",
              " 68: 'global',\n",
              " 69: 'global',\n",
              " 70: 'global',\n",
              " 71: 'global',\n",
              " 72: 'global',\n",
              " 73: 'global',\n",
              " 74: 'global',\n",
              " 75: 'global',\n",
              " 76: 'global',\n",
              " 77: 'global',\n",
              " 78: 'global',\n",
              " 79: 'global',\n",
              " 80: 'global',\n",
              " 81: 'global',\n",
              " 82: 'global',\n",
              " 83: 'global',\n",
              " 84: 'global',\n",
              " 85: 'global',\n",
              " 86: 'global',\n",
              " 87: 'global',\n",
              " 88: 'global',\n",
              " 89: 'global',\n",
              " 90: 'global',\n",
              " 91: 'global',\n",
              " 92: 'global',\n",
              " 93: 'global',\n",
              " 94: 'global',\n",
              " 95: 'global',\n",
              " 96: 'global',\n",
              " 97: 'global',\n",
              " 98: 'global',\n",
              " 99: 'global',\n",
              " 100: 'global',\n",
              " 101: 'global',\n",
              " 102: 'global',\n",
              " 103: 'global',\n",
              " 104: 'global',\n",
              " 105: 'global',\n",
              " 106: 'global',\n",
              " 107: 'global',\n",
              " 108: 'global',\n",
              " 109: 'global',\n",
              " 110: 'global',\n",
              " 111: 'global',\n",
              " 112: 'global',\n",
              " 113: 'global',\n",
              " 114: 'global',\n",
              " 115: 'global',\n",
              " 116: 'global',\n",
              " 117: 'global',\n",
              " 118: 'global',\n",
              " 119: 'global',\n",
              " 120: 'global',\n",
              " 121: 'global',\n",
              " 122: 'global',\n",
              " 123: 'global',\n",
              " 124: 'global',\n",
              " 125: 'global',\n",
              " 126: 'global',\n",
              " 127: 'global',\n",
              " 128: 'global',\n",
              " 129: 'global',\n",
              " 130: 'global',\n",
              " 131: 'global',\n",
              " 132: 'global',\n",
              " 133: 'global',\n",
              " 134: 'global',\n",
              " 135: 'global',\n",
              " 136: 'global',\n",
              " 137: 'global',\n",
              " 138: 'global',\n",
              " 139: 'global',\n",
              " 140: 'global',\n",
              " 141: 'global',\n",
              " 142: 'global',\n",
              " 143: 'global',\n",
              " 144: 'global',\n",
              " 145: 'global',\n",
              " 146: 'global',\n",
              " 147: 'global',\n",
              " 148: 'global',\n",
              " 149: 'global',\n",
              " 150: 'global'}"
            ]
          },
          "metadata": {},
          "execution_count": 28
        }
      ]
    },
    {
      "cell_type": "code",
      "source": [
        "#so you can construct a dataframe for the factor gene weights\n",
        "\n",
        "#include cell type specificity as a prefix into the index\n",
        "index_labels = [celltype_dict[x]+'_'+str(x) for x in range(adata.uns['SPECTRA_factors'].shape[0])]\n",
        "gene_weights = pd.DataFrame(adata.uns['SPECTRA_factors'], \n",
        "                            index= index_labels,\n",
        "                            columns=adata.var[adata.var['spectra_vocab']].index)\n",
        "gene_weights"
      ],
      "metadata": {
        "id": "1l6It9epy7G7",
        "colab": {
          "base_uri": "https://localhost:8080/",
          "height": 661
        },
        "outputId": "250cb37a-6ffc-4eac-daa8-1eb4cda1b931"
      },
      "execution_count": 29,
      "outputs": [
        {
          "output_type": "execute_result",
          "data": {
            "text/plain": [
              "                   KCNC3        NDUFS3         HACD1       FAM214A  \\\n",
              "global_0    4.356364e-14  5.452132e-12  2.077004e-13  2.257731e-13   \n",
              "global_1    2.000403e-13  7.327174e-13  4.671102e-13  9.056562e-14   \n",
              "global_2    8.885795e-14  5.945747e-13  1.346159e-11  9.579037e-14   \n",
              "global_3    1.869786e-14  1.349924e-13  2.711384e-13  7.944089e-14   \n",
              "global_4    7.540903e-14  2.959932e-13  1.366116e-12  8.042454e-14   \n",
              "...                  ...           ...           ...           ...   \n",
              "mast_191    3.870500e-13  8.930766e-13  9.704270e-14  5.560821e-13   \n",
              "mast_192    3.794211e-02  6.428811e-02  3.533603e-02  5.443527e-02   \n",
              "pDC_193     1.435729e-12  5.538052e-13  9.759710e-14  1.022757e-12   \n",
              "pDC_194     4.787197e-02  3.679328e-02  3.454848e-02  4.441684e-02   \n",
              "plasma_195  1.088023e-01  4.461782e-02  4.215011e-02  4.498157e-02   \n",
              "\n",
              "                    TBCD    AC124312.1        PLAGL2        CD40LG  \\\n",
              "global_0    2.268244e-12  2.602525e-14  7.605402e-14  1.524541e-14   \n",
              "global_1    2.139257e-11  4.736795e-14  1.015350e-13  9.396203e-15   \n",
              "global_2    7.497528e-13  1.112033e-13  1.005331e-13  6.290138e-14   \n",
              "global_3    3.092972e-13  4.103626e-14  1.353203e-13  7.316951e-14   \n",
              "global_4    1.886817e-12  4.047633e-14  1.222757e-13  1.067683e-13   \n",
              "...                  ...           ...           ...           ...   \n",
              "mast_191    4.103713e-13  1.618993e-12  4.778962e-13  1.392698e-12   \n",
              "mast_192    2.259220e-02  4.109029e-02  1.363852e-02  2.866555e-02   \n",
              "pDC_193     2.499447e-13  4.432124e-13  9.841940e-13  6.206608e-13   \n",
              "pDC_194     1.701389e-02  3.485747e-02  2.383785e-02  1.232884e-02   \n",
              "plasma_195  3.514002e-02  3.737193e-02  5.138786e-02  7.712411e-02   \n",
              "\n",
              "              AC022182.1         USP53  ...        CCL3L1          BAG3  \\\n",
              "global_0    1.014234e-13  1.145932e-13  ...  1.697182e-13  5.993498e-14   \n",
              "global_1    9.265727e-14  4.218634e-13  ...  1.564359e-13  5.277543e-14   \n",
              "global_2    7.850966e-14  2.052621e-13  ...  4.348629e-13  1.186596e-13   \n",
              "global_3    2.430590e-14  8.322827e-14  ...  1.551495e-13  1.680581e-13   \n",
              "global_4    4.727547e-13  1.320621e-13  ...  2.409249e-13  5.231352e-14   \n",
              "...                  ...           ...  ...           ...           ...   \n",
              "mast_191    1.244996e-12  7.623092e-13  ...  1.624466e-12  1.462573e-12   \n",
              "mast_192    3.486617e-02  9.091700e-02  ...  4.502710e-02  6.241303e-02   \n",
              "pDC_193     5.233734e-13  6.392702e-13  ...  5.704984e-13  1.996153e-12   \n",
              "pDC_194     1.430807e-01  2.678511e-02  ...  1.654608e-02  9.884385e-02   \n",
              "plasma_195  4.359340e-02  2.719513e-02  ...  3.615589e-02  1.045286e-01   \n",
              "\n",
              "                CDC42EP3         TRAM1        RANBP1         FDFT1  \\\n",
              "global_0    4.584724e-13  3.809110e-12  2.109054e-12  1.102639e-13   \n",
              "global_1    1.128257e-13  1.528700e-13  1.039122e-12  3.119382e-13   \n",
              "global_2    1.074578e-13  4.067330e-13  4.947360e-13  2.272177e-13   \n",
              "global_3    1.060684e-13  1.556263e-13  7.705054e-12  7.648005e-14   \n",
              "global_4    7.501449e-14  9.352481e-13  2.189796e-12  3.744664e-02   \n",
              "...                  ...           ...           ...           ...   \n",
              "mast_191    4.793904e-13  2.091417e-12  9.780933e-13  7.771222e-13   \n",
              "mast_192    5.997301e-02  6.742718e-02  3.820498e-02  3.819025e-02   \n",
              "pDC_193     2.296729e-13  5.209931e-13  2.021041e-13  2.030186e-13   \n",
              "pDC_194     3.861498e-02  2.045760e-02  3.651014e-02  1.459841e-02   \n",
              "plasma_195  5.355360e-02  1.734751e-01  2.178672e-02  9.063054e-02   \n",
              "\n",
              "                   HACD4        FCGR3A         AZGP1       SLC35A1  \n",
              "global_0    3.633281e-12  6.840461e-14  1.983893e-12  8.787152e-13  \n",
              "global_1    1.858323e-12  1.228204e-13  9.294127e-14  7.667613e-12  \n",
              "global_2    1.525292e-11  2.995721e-14  3.911661e-13  5.950304e-12  \n",
              "global_3    2.314078e-13  2.024527e-13  6.755432e-13  4.355111e-13  \n",
              "global_4    4.298491e-14  1.143826e-13  4.794422e-13  1.008802e-11  \n",
              "...                  ...           ...           ...           ...  \n",
              "mast_191    3.798712e-12  2.795134e-13  1.123249e-12  8.377997e-13  \n",
              "mast_192    4.835907e-02  7.921619e-02  5.145327e-02  1.127497e-01  \n",
              "pDC_193     8.124565e-13  7.284353e-14  8.509266e-13  1.864197e-13  \n",
              "pDC_194     3.496592e-02  1.902214e-02  4.088416e-02  4.540312e-02  \n",
              "plasma_195  7.932000e-02  4.889653e-02  1.093370e-02  6.648260e-02  \n",
              "\n",
              "[196 rows x 6392 columns]"
            ],
            "text/html": [
              "\n",
              "  <div id=\"df-7a803236-2dca-4a8f-9d15-478f22848237\">\n",
              "    <div class=\"colab-df-container\">\n",
              "      <div>\n",
              "<style scoped>\n",
              "    .dataframe tbody tr th:only-of-type {\n",
              "        vertical-align: middle;\n",
              "    }\n",
              "\n",
              "    .dataframe tbody tr th {\n",
              "        vertical-align: top;\n",
              "    }\n",
              "\n",
              "    .dataframe thead th {\n",
              "        text-align: right;\n",
              "    }\n",
              "</style>\n",
              "<table border=\"1\" class=\"dataframe\">\n",
              "  <thead>\n",
              "    <tr style=\"text-align: right;\">\n",
              "      <th></th>\n",
              "      <th>KCNC3</th>\n",
              "      <th>NDUFS3</th>\n",
              "      <th>HACD1</th>\n",
              "      <th>FAM214A</th>\n",
              "      <th>TBCD</th>\n",
              "      <th>AC124312.1</th>\n",
              "      <th>PLAGL2</th>\n",
              "      <th>CD40LG</th>\n",
              "      <th>AC022182.1</th>\n",
              "      <th>USP53</th>\n",
              "      <th>...</th>\n",
              "      <th>CCL3L1</th>\n",
              "      <th>BAG3</th>\n",
              "      <th>CDC42EP3</th>\n",
              "      <th>TRAM1</th>\n",
              "      <th>RANBP1</th>\n",
              "      <th>FDFT1</th>\n",
              "      <th>HACD4</th>\n",
              "      <th>FCGR3A</th>\n",
              "      <th>AZGP1</th>\n",
              "      <th>SLC35A1</th>\n",
              "    </tr>\n",
              "  </thead>\n",
              "  <tbody>\n",
              "    <tr>\n",
              "      <th>global_0</th>\n",
              "      <td>4.356364e-14</td>\n",
              "      <td>5.452132e-12</td>\n",
              "      <td>2.077004e-13</td>\n",
              "      <td>2.257731e-13</td>\n",
              "      <td>2.268244e-12</td>\n",
              "      <td>2.602525e-14</td>\n",
              "      <td>7.605402e-14</td>\n",
              "      <td>1.524541e-14</td>\n",
              "      <td>1.014234e-13</td>\n",
              "      <td>1.145932e-13</td>\n",
              "      <td>...</td>\n",
              "      <td>1.697182e-13</td>\n",
              "      <td>5.993498e-14</td>\n",
              "      <td>4.584724e-13</td>\n",
              "      <td>3.809110e-12</td>\n",
              "      <td>2.109054e-12</td>\n",
              "      <td>1.102639e-13</td>\n",
              "      <td>3.633281e-12</td>\n",
              "      <td>6.840461e-14</td>\n",
              "      <td>1.983893e-12</td>\n",
              "      <td>8.787152e-13</td>\n",
              "    </tr>\n",
              "    <tr>\n",
              "      <th>global_1</th>\n",
              "      <td>2.000403e-13</td>\n",
              "      <td>7.327174e-13</td>\n",
              "      <td>4.671102e-13</td>\n",
              "      <td>9.056562e-14</td>\n",
              "      <td>2.139257e-11</td>\n",
              "      <td>4.736795e-14</td>\n",
              "      <td>1.015350e-13</td>\n",
              "      <td>9.396203e-15</td>\n",
              "      <td>9.265727e-14</td>\n",
              "      <td>4.218634e-13</td>\n",
              "      <td>...</td>\n",
              "      <td>1.564359e-13</td>\n",
              "      <td>5.277543e-14</td>\n",
              "      <td>1.128257e-13</td>\n",
              "      <td>1.528700e-13</td>\n",
              "      <td>1.039122e-12</td>\n",
              "      <td>3.119382e-13</td>\n",
              "      <td>1.858323e-12</td>\n",
              "      <td>1.228204e-13</td>\n",
              "      <td>9.294127e-14</td>\n",
              "      <td>7.667613e-12</td>\n",
              "    </tr>\n",
              "    <tr>\n",
              "      <th>global_2</th>\n",
              "      <td>8.885795e-14</td>\n",
              "      <td>5.945747e-13</td>\n",
              "      <td>1.346159e-11</td>\n",
              "      <td>9.579037e-14</td>\n",
              "      <td>7.497528e-13</td>\n",
              "      <td>1.112033e-13</td>\n",
              "      <td>1.005331e-13</td>\n",
              "      <td>6.290138e-14</td>\n",
              "      <td>7.850966e-14</td>\n",
              "      <td>2.052621e-13</td>\n",
              "      <td>...</td>\n",
              "      <td>4.348629e-13</td>\n",
              "      <td>1.186596e-13</td>\n",
              "      <td>1.074578e-13</td>\n",
              "      <td>4.067330e-13</td>\n",
              "      <td>4.947360e-13</td>\n",
              "      <td>2.272177e-13</td>\n",
              "      <td>1.525292e-11</td>\n",
              "      <td>2.995721e-14</td>\n",
              "      <td>3.911661e-13</td>\n",
              "      <td>5.950304e-12</td>\n",
              "    </tr>\n",
              "    <tr>\n",
              "      <th>global_3</th>\n",
              "      <td>1.869786e-14</td>\n",
              "      <td>1.349924e-13</td>\n",
              "      <td>2.711384e-13</td>\n",
              "      <td>7.944089e-14</td>\n",
              "      <td>3.092972e-13</td>\n",
              "      <td>4.103626e-14</td>\n",
              "      <td>1.353203e-13</td>\n",
              "      <td>7.316951e-14</td>\n",
              "      <td>2.430590e-14</td>\n",
              "      <td>8.322827e-14</td>\n",
              "      <td>...</td>\n",
              "      <td>1.551495e-13</td>\n",
              "      <td>1.680581e-13</td>\n",
              "      <td>1.060684e-13</td>\n",
              "      <td>1.556263e-13</td>\n",
              "      <td>7.705054e-12</td>\n",
              "      <td>7.648005e-14</td>\n",
              "      <td>2.314078e-13</td>\n",
              "      <td>2.024527e-13</td>\n",
              "      <td>6.755432e-13</td>\n",
              "      <td>4.355111e-13</td>\n",
              "    </tr>\n",
              "    <tr>\n",
              "      <th>global_4</th>\n",
              "      <td>7.540903e-14</td>\n",
              "      <td>2.959932e-13</td>\n",
              "      <td>1.366116e-12</td>\n",
              "      <td>8.042454e-14</td>\n",
              "      <td>1.886817e-12</td>\n",
              "      <td>4.047633e-14</td>\n",
              "      <td>1.222757e-13</td>\n",
              "      <td>1.067683e-13</td>\n",
              "      <td>4.727547e-13</td>\n",
              "      <td>1.320621e-13</td>\n",
              "      <td>...</td>\n",
              "      <td>2.409249e-13</td>\n",
              "      <td>5.231352e-14</td>\n",
              "      <td>7.501449e-14</td>\n",
              "      <td>9.352481e-13</td>\n",
              "      <td>2.189796e-12</td>\n",
              "      <td>3.744664e-02</td>\n",
              "      <td>4.298491e-14</td>\n",
              "      <td>1.143826e-13</td>\n",
              "      <td>4.794422e-13</td>\n",
              "      <td>1.008802e-11</td>\n",
              "    </tr>\n",
              "    <tr>\n",
              "      <th>...</th>\n",
              "      <td>...</td>\n",
              "      <td>...</td>\n",
              "      <td>...</td>\n",
              "      <td>...</td>\n",
              "      <td>...</td>\n",
              "      <td>...</td>\n",
              "      <td>...</td>\n",
              "      <td>...</td>\n",
              "      <td>...</td>\n",
              "      <td>...</td>\n",
              "      <td>...</td>\n",
              "      <td>...</td>\n",
              "      <td>...</td>\n",
              "      <td>...</td>\n",
              "      <td>...</td>\n",
              "      <td>...</td>\n",
              "      <td>...</td>\n",
              "      <td>...</td>\n",
              "      <td>...</td>\n",
              "      <td>...</td>\n",
              "      <td>...</td>\n",
              "    </tr>\n",
              "    <tr>\n",
              "      <th>mast_191</th>\n",
              "      <td>3.870500e-13</td>\n",
              "      <td>8.930766e-13</td>\n",
              "      <td>9.704270e-14</td>\n",
              "      <td>5.560821e-13</td>\n",
              "      <td>4.103713e-13</td>\n",
              "      <td>1.618993e-12</td>\n",
              "      <td>4.778962e-13</td>\n",
              "      <td>1.392698e-12</td>\n",
              "      <td>1.244996e-12</td>\n",
              "      <td>7.623092e-13</td>\n",
              "      <td>...</td>\n",
              "      <td>1.624466e-12</td>\n",
              "      <td>1.462573e-12</td>\n",
              "      <td>4.793904e-13</td>\n",
              "      <td>2.091417e-12</td>\n",
              "      <td>9.780933e-13</td>\n",
              "      <td>7.771222e-13</td>\n",
              "      <td>3.798712e-12</td>\n",
              "      <td>2.795134e-13</td>\n",
              "      <td>1.123249e-12</td>\n",
              "      <td>8.377997e-13</td>\n",
              "    </tr>\n",
              "    <tr>\n",
              "      <th>mast_192</th>\n",
              "      <td>3.794211e-02</td>\n",
              "      <td>6.428811e-02</td>\n",
              "      <td>3.533603e-02</td>\n",
              "      <td>5.443527e-02</td>\n",
              "      <td>2.259220e-02</td>\n",
              "      <td>4.109029e-02</td>\n",
              "      <td>1.363852e-02</td>\n",
              "      <td>2.866555e-02</td>\n",
              "      <td>3.486617e-02</td>\n",
              "      <td>9.091700e-02</td>\n",
              "      <td>...</td>\n",
              "      <td>4.502710e-02</td>\n",
              "      <td>6.241303e-02</td>\n",
              "      <td>5.997301e-02</td>\n",
              "      <td>6.742718e-02</td>\n",
              "      <td>3.820498e-02</td>\n",
              "      <td>3.819025e-02</td>\n",
              "      <td>4.835907e-02</td>\n",
              "      <td>7.921619e-02</td>\n",
              "      <td>5.145327e-02</td>\n",
              "      <td>1.127497e-01</td>\n",
              "    </tr>\n",
              "    <tr>\n",
              "      <th>pDC_193</th>\n",
              "      <td>1.435729e-12</td>\n",
              "      <td>5.538052e-13</td>\n",
              "      <td>9.759710e-14</td>\n",
              "      <td>1.022757e-12</td>\n",
              "      <td>2.499447e-13</td>\n",
              "      <td>4.432124e-13</td>\n",
              "      <td>9.841940e-13</td>\n",
              "      <td>6.206608e-13</td>\n",
              "      <td>5.233734e-13</td>\n",
              "      <td>6.392702e-13</td>\n",
              "      <td>...</td>\n",
              "      <td>5.704984e-13</td>\n",
              "      <td>1.996153e-12</td>\n",
              "      <td>2.296729e-13</td>\n",
              "      <td>5.209931e-13</td>\n",
              "      <td>2.021041e-13</td>\n",
              "      <td>2.030186e-13</td>\n",
              "      <td>8.124565e-13</td>\n",
              "      <td>7.284353e-14</td>\n",
              "      <td>8.509266e-13</td>\n",
              "      <td>1.864197e-13</td>\n",
              "    </tr>\n",
              "    <tr>\n",
              "      <th>pDC_194</th>\n",
              "      <td>4.787197e-02</td>\n",
              "      <td>3.679328e-02</td>\n",
              "      <td>3.454848e-02</td>\n",
              "      <td>4.441684e-02</td>\n",
              "      <td>1.701389e-02</td>\n",
              "      <td>3.485747e-02</td>\n",
              "      <td>2.383785e-02</td>\n",
              "      <td>1.232884e-02</td>\n",
              "      <td>1.430807e-01</td>\n",
              "      <td>2.678511e-02</td>\n",
              "      <td>...</td>\n",
              "      <td>1.654608e-02</td>\n",
              "      <td>9.884385e-02</td>\n",
              "      <td>3.861498e-02</td>\n",
              "      <td>2.045760e-02</td>\n",
              "      <td>3.651014e-02</td>\n",
              "      <td>1.459841e-02</td>\n",
              "      <td>3.496592e-02</td>\n",
              "      <td>1.902214e-02</td>\n",
              "      <td>4.088416e-02</td>\n",
              "      <td>4.540312e-02</td>\n",
              "    </tr>\n",
              "    <tr>\n",
              "      <th>plasma_195</th>\n",
              "      <td>1.088023e-01</td>\n",
              "      <td>4.461782e-02</td>\n",
              "      <td>4.215011e-02</td>\n",
              "      <td>4.498157e-02</td>\n",
              "      <td>3.514002e-02</td>\n",
              "      <td>3.737193e-02</td>\n",
              "      <td>5.138786e-02</td>\n",
              "      <td>7.712411e-02</td>\n",
              "      <td>4.359340e-02</td>\n",
              "      <td>2.719513e-02</td>\n",
              "      <td>...</td>\n",
              "      <td>3.615589e-02</td>\n",
              "      <td>1.045286e-01</td>\n",
              "      <td>5.355360e-02</td>\n",
              "      <td>1.734751e-01</td>\n",
              "      <td>2.178672e-02</td>\n",
              "      <td>9.063054e-02</td>\n",
              "      <td>7.932000e-02</td>\n",
              "      <td>4.889653e-02</td>\n",
              "      <td>1.093370e-02</td>\n",
              "      <td>6.648260e-02</td>\n",
              "    </tr>\n",
              "  </tbody>\n",
              "</table>\n",
              "<p>196 rows × 6392 columns</p>\n",
              "</div>\n",
              "      <button class=\"colab-df-convert\" onclick=\"convertToInteractive('df-7a803236-2dca-4a8f-9d15-478f22848237')\"\n",
              "              title=\"Convert this dataframe to an interactive table.\"\n",
              "              style=\"display:none;\">\n",
              "        \n",
              "  <svg xmlns=\"http://www.w3.org/2000/svg\" height=\"24px\"viewBox=\"0 0 24 24\"\n",
              "       width=\"24px\">\n",
              "    <path d=\"M0 0h24v24H0V0z\" fill=\"none\"/>\n",
              "    <path d=\"M18.56 5.44l.94 2.06.94-2.06 2.06-.94-2.06-.94-.94-2.06-.94 2.06-2.06.94zm-11 1L8.5 8.5l.94-2.06 2.06-.94-2.06-.94L8.5 2.5l-.94 2.06-2.06.94zm10 10l.94 2.06.94-2.06 2.06-.94-2.06-.94-.94-2.06-.94 2.06-2.06.94z\"/><path d=\"M17.41 7.96l-1.37-1.37c-.4-.4-.92-.59-1.43-.59-.52 0-1.04.2-1.43.59L10.3 9.45l-7.72 7.72c-.78.78-.78 2.05 0 2.83L4 21.41c.39.39.9.59 1.41.59.51 0 1.02-.2 1.41-.59l7.78-7.78 2.81-2.81c.8-.78.8-2.07 0-2.86zM5.41 20L4 18.59l7.72-7.72 1.47 1.35L5.41 20z\"/>\n",
              "  </svg>\n",
              "      </button>\n",
              "      \n",
              "  <style>\n",
              "    .colab-df-container {\n",
              "      display:flex;\n",
              "      flex-wrap:wrap;\n",
              "      gap: 12px;\n",
              "    }\n",
              "\n",
              "    .colab-df-convert {\n",
              "      background-color: #E8F0FE;\n",
              "      border: none;\n",
              "      border-radius: 50%;\n",
              "      cursor: pointer;\n",
              "      display: none;\n",
              "      fill: #1967D2;\n",
              "      height: 32px;\n",
              "      padding: 0 0 0 0;\n",
              "      width: 32px;\n",
              "    }\n",
              "\n",
              "    .colab-df-convert:hover {\n",
              "      background-color: #E2EBFA;\n",
              "      box-shadow: 0px 1px 2px rgba(60, 64, 67, 0.3), 0px 1px 3px 1px rgba(60, 64, 67, 0.15);\n",
              "      fill: #174EA6;\n",
              "    }\n",
              "\n",
              "    [theme=dark] .colab-df-convert {\n",
              "      background-color: #3B4455;\n",
              "      fill: #D2E3FC;\n",
              "    }\n",
              "\n",
              "    [theme=dark] .colab-df-convert:hover {\n",
              "      background-color: #434B5C;\n",
              "      box-shadow: 0px 1px 3px 1px rgba(0, 0, 0, 0.15);\n",
              "      filter: drop-shadow(0px 1px 2px rgba(0, 0, 0, 0.3));\n",
              "      fill: #FFFFFF;\n",
              "    }\n",
              "  </style>\n",
              "\n",
              "      <script>\n",
              "        const buttonEl =\n",
              "          document.querySelector('#df-7a803236-2dca-4a8f-9d15-478f22848237 button.colab-df-convert');\n",
              "        buttonEl.style.display =\n",
              "          google.colab.kernel.accessAllowed ? 'block' : 'none';\n",
              "\n",
              "        async function convertToInteractive(key) {\n",
              "          const element = document.querySelector('#df-7a803236-2dca-4a8f-9d15-478f22848237');\n",
              "          const dataTable =\n",
              "            await google.colab.kernel.invokeFunction('convertToInteractive',\n",
              "                                                     [key], {});\n",
              "          if (!dataTable) return;\n",
              "\n",
              "          const docLinkHtml = 'Like what you see? Visit the ' +\n",
              "            '<a target=\"_blank\" href=https://colab.research.google.com/notebooks/data_table.ipynb>data table notebook</a>'\n",
              "            + ' to learn more about interactive tables.';\n",
              "          element.innerHTML = '';\n",
              "          dataTable['output_type'] = 'display_data';\n",
              "          await google.colab.output.renderOutput(dataTable, element);\n",
              "          const docLink = document.createElement('div');\n",
              "          docLink.innerHTML = docLinkHtml;\n",
              "          element.appendChild(docLink);\n",
              "        }\n",
              "      </script>\n",
              "    </div>\n",
              "  </div>\n",
              "  "
            ]
          },
          "metadata": {},
          "execution_count": 29
        }
      ]
    },
    {
      "cell_type": "code",
      "source": [
        "#find the cell scores under adata.obsm['SPECTRA_cellscores']\n",
        "adata.obsm['SPECTRA_cell_scores']"
      ],
      "metadata": {
        "id": "ON6rNbn0zMO6",
        "colab": {
          "base_uri": "https://localhost:8080/"
        },
        "outputId": "3d97984a-ccdb-41f8-c1dc-a6f4a9ef1eef"
      },
      "execution_count": 30,
      "outputs": [
        {
          "output_type": "execute_result",
          "data": {
            "text/plain": [
              "array([[9.58717014e-06, 1.15126414e-04, 2.70934846e-05, ...,\n",
              "        0.00000000e+00, 0.00000000e+00, 0.00000000e+00],\n",
              "       [6.31418109e-06, 3.80980870e-06, 1.62523909e-05, ...,\n",
              "        0.00000000e+00, 0.00000000e+00, 0.00000000e+00],\n",
              "       [3.16393229e-06, 1.59062226e-05, 1.41756293e-05, ...,\n",
              "        0.00000000e+00, 0.00000000e+00, 0.00000000e+00],\n",
              "       ...,\n",
              "       [1.91933558e-05, 3.21819752e-05, 4.61653272e-06, ...,\n",
              "        0.00000000e+00, 0.00000000e+00, 0.00000000e+00],\n",
              "       [1.40033313e-05, 4.59976381e-06, 2.30973233e-05, ...,\n",
              "        0.00000000e+00, 0.00000000e+00, 0.00000000e+00],\n",
              "       [8.47277026e-06, 1.26978452e-05, 1.41454974e-05, ...,\n",
              "        0.00000000e+00, 0.00000000e+00, 0.00000000e+00]])"
            ]
          },
          "metadata": {},
          "execution_count": 30
        }
      ]
    },
    {
      "cell_type": "code",
      "source": [
        "\n",
        "\n",
        "#construct a dataframe for the cell scores\n",
        "\n",
        "#include cell type specificity as a prefix into the column names\n",
        "column_labels = [celltype_dict[x]+'_'+str(x) for x in range(adata.obsm['SPECTRA_cell_scores'].shape[1])]\n",
        "cell_scores = pd.DataFrame(adata.obsm['SPECTRA_cell_scores'], \n",
        "                            index= adata.obs_names,\n",
        "                            columns=column_labels)\n",
        "cell_scores\n",
        "\n"
      ],
      "metadata": {
        "id": "Eo_evLBczNQj",
        "colab": {
          "base_uri": "https://localhost:8080/",
          "height": 424
        },
        "outputId": "05bf4b6d-8c6d-4d84-9475-1dc2b5bbc8a6"
      },
      "execution_count": 31,
      "outputs": [
        {
          "output_type": "execute_result",
          "data": {
            "text/plain": [
              "      global_0  global_1  global_2  global_3  global_4  global_5  global_6  \\\n",
              "0     0.000010  0.000115  0.000027  0.000038  0.000589  0.000006  0.000228   \n",
              "1     0.000006  0.000004  0.000016  0.000097  0.000280  0.000050  0.000217   \n",
              "2     0.000003  0.000016  0.000014  0.000066  0.000066  0.000093  0.000105   \n",
              "3     0.000016  0.000025  0.000003  0.000079  0.000724  0.000033  0.000310   \n",
              "4     0.000051  0.000032  0.000001  0.000422  0.000584  0.000017  0.000086   \n",
              "...        ...       ...       ...       ...       ...       ...       ...   \n",
              "9995  0.000010  0.000089  0.000012  0.000035  0.000250  0.000013  0.000302   \n",
              "9996  0.000013  0.000032  0.000015  0.000010  0.000128  0.000011  0.000040   \n",
              "9997  0.000019  0.000032  0.000005  0.000063  0.000069  0.000010  0.000266   \n",
              "9998  0.000014  0.000005  0.000023  0.000039  0.000289  0.000022  0.000771   \n",
              "9999  0.000008  0.000013  0.000014  0.000023  0.000112  0.000041  0.000868   \n",
              "\n",
              "      global_7      global_8      global_9  ...   MDC_186  NK_187  Treg_188  \\\n",
              "0     0.000137  3.155361e-07  1.140083e-06  ...  0.000000     0.0  0.000000   \n",
              "1     0.000223  2.049155e-06  2.050467e-06  ...  0.000000     0.0  0.000000   \n",
              "2     0.000567  9.497279e-07  6.448714e-07  ...  0.000000     0.0  0.000000   \n",
              "3     0.000205  3.013527e-07  1.637163e-06  ...  0.040405     0.0  0.000000   \n",
              "4     0.000156  1.517451e-07  1.459311e-06  ...  0.000000     0.0  0.000007   \n",
              "...        ...           ...           ...  ...       ...     ...       ...   \n",
              "9995  0.000358  4.919654e-07  1.397941e-05  ...  0.000000     0.0  0.000000   \n",
              "9996  0.000183  1.699713e-06  2.739945e-06  ...  0.000000     0.0  0.000000   \n",
              "9997  0.000404  3.960000e-07  5.391940e-06  ...  0.000000     0.0  0.000000   \n",
              "9998  0.000212  2.986876e-07  5.028052e-06  ...  0.061031     0.0  0.000000   \n",
              "9999  0.000172  4.166905e-08  2.939504e-06  ...  0.000000     0.0  0.000000   \n",
              "\n",
              "      Treg_189  gdT_190  mast_191  mast_192  pDC_193  pDC_194  plasma_195  \n",
              "0     0.000000      0.0       0.0       0.0      0.0      0.0         0.0  \n",
              "1     0.000000      0.0       0.0       0.0      0.0      0.0         0.0  \n",
              "2     0.000000      0.0       0.0       0.0      0.0      0.0         0.0  \n",
              "3     0.000000      0.0       0.0       0.0      0.0      0.0         0.0  \n",
              "4     0.175324      0.0       0.0       0.0      0.0      0.0         0.0  \n",
              "...        ...      ...       ...       ...      ...      ...         ...  \n",
              "9995  0.000000      0.0       0.0       0.0      0.0      0.0         0.0  \n",
              "9996  0.000000      0.0       0.0       0.0      0.0      0.0         0.0  \n",
              "9997  0.000000      0.0       0.0       0.0      0.0      0.0         0.0  \n",
              "9998  0.000000      0.0       0.0       0.0      0.0      0.0         0.0  \n",
              "9999  0.000000      0.0       0.0       0.0      0.0      0.0         0.0  \n",
              "\n",
              "[10000 rows x 196 columns]"
            ],
            "text/html": [
              "\n",
              "  <div id=\"df-3494e52c-fbac-486f-81dc-7208c3f2a452\">\n",
              "    <div class=\"colab-df-container\">\n",
              "      <div>\n",
              "<style scoped>\n",
              "    .dataframe tbody tr th:only-of-type {\n",
              "        vertical-align: middle;\n",
              "    }\n",
              "\n",
              "    .dataframe tbody tr th {\n",
              "        vertical-align: top;\n",
              "    }\n",
              "\n",
              "    .dataframe thead th {\n",
              "        text-align: right;\n",
              "    }\n",
              "</style>\n",
              "<table border=\"1\" class=\"dataframe\">\n",
              "  <thead>\n",
              "    <tr style=\"text-align: right;\">\n",
              "      <th></th>\n",
              "      <th>global_0</th>\n",
              "      <th>global_1</th>\n",
              "      <th>global_2</th>\n",
              "      <th>global_3</th>\n",
              "      <th>global_4</th>\n",
              "      <th>global_5</th>\n",
              "      <th>global_6</th>\n",
              "      <th>global_7</th>\n",
              "      <th>global_8</th>\n",
              "      <th>global_9</th>\n",
              "      <th>...</th>\n",
              "      <th>MDC_186</th>\n",
              "      <th>NK_187</th>\n",
              "      <th>Treg_188</th>\n",
              "      <th>Treg_189</th>\n",
              "      <th>gdT_190</th>\n",
              "      <th>mast_191</th>\n",
              "      <th>mast_192</th>\n",
              "      <th>pDC_193</th>\n",
              "      <th>pDC_194</th>\n",
              "      <th>plasma_195</th>\n",
              "    </tr>\n",
              "  </thead>\n",
              "  <tbody>\n",
              "    <tr>\n",
              "      <th>0</th>\n",
              "      <td>0.000010</td>\n",
              "      <td>0.000115</td>\n",
              "      <td>0.000027</td>\n",
              "      <td>0.000038</td>\n",
              "      <td>0.000589</td>\n",
              "      <td>0.000006</td>\n",
              "      <td>0.000228</td>\n",
              "      <td>0.000137</td>\n",
              "      <td>3.155361e-07</td>\n",
              "      <td>1.140083e-06</td>\n",
              "      <td>...</td>\n",
              "      <td>0.000000</td>\n",
              "      <td>0.0</td>\n",
              "      <td>0.000000</td>\n",
              "      <td>0.000000</td>\n",
              "      <td>0.0</td>\n",
              "      <td>0.0</td>\n",
              "      <td>0.0</td>\n",
              "      <td>0.0</td>\n",
              "      <td>0.0</td>\n",
              "      <td>0.0</td>\n",
              "    </tr>\n",
              "    <tr>\n",
              "      <th>1</th>\n",
              "      <td>0.000006</td>\n",
              "      <td>0.000004</td>\n",
              "      <td>0.000016</td>\n",
              "      <td>0.000097</td>\n",
              "      <td>0.000280</td>\n",
              "      <td>0.000050</td>\n",
              "      <td>0.000217</td>\n",
              "      <td>0.000223</td>\n",
              "      <td>2.049155e-06</td>\n",
              "      <td>2.050467e-06</td>\n",
              "      <td>...</td>\n",
              "      <td>0.000000</td>\n",
              "      <td>0.0</td>\n",
              "      <td>0.000000</td>\n",
              "      <td>0.000000</td>\n",
              "      <td>0.0</td>\n",
              "      <td>0.0</td>\n",
              "      <td>0.0</td>\n",
              "      <td>0.0</td>\n",
              "      <td>0.0</td>\n",
              "      <td>0.0</td>\n",
              "    </tr>\n",
              "    <tr>\n",
              "      <th>2</th>\n",
              "      <td>0.000003</td>\n",
              "      <td>0.000016</td>\n",
              "      <td>0.000014</td>\n",
              "      <td>0.000066</td>\n",
              "      <td>0.000066</td>\n",
              "      <td>0.000093</td>\n",
              "      <td>0.000105</td>\n",
              "      <td>0.000567</td>\n",
              "      <td>9.497279e-07</td>\n",
              "      <td>6.448714e-07</td>\n",
              "      <td>...</td>\n",
              "      <td>0.000000</td>\n",
              "      <td>0.0</td>\n",
              "      <td>0.000000</td>\n",
              "      <td>0.000000</td>\n",
              "      <td>0.0</td>\n",
              "      <td>0.0</td>\n",
              "      <td>0.0</td>\n",
              "      <td>0.0</td>\n",
              "      <td>0.0</td>\n",
              "      <td>0.0</td>\n",
              "    </tr>\n",
              "    <tr>\n",
              "      <th>3</th>\n",
              "      <td>0.000016</td>\n",
              "      <td>0.000025</td>\n",
              "      <td>0.000003</td>\n",
              "      <td>0.000079</td>\n",
              "      <td>0.000724</td>\n",
              "      <td>0.000033</td>\n",
              "      <td>0.000310</td>\n",
              "      <td>0.000205</td>\n",
              "      <td>3.013527e-07</td>\n",
              "      <td>1.637163e-06</td>\n",
              "      <td>...</td>\n",
              "      <td>0.040405</td>\n",
              "      <td>0.0</td>\n",
              "      <td>0.000000</td>\n",
              "      <td>0.000000</td>\n",
              "      <td>0.0</td>\n",
              "      <td>0.0</td>\n",
              "      <td>0.0</td>\n",
              "      <td>0.0</td>\n",
              "      <td>0.0</td>\n",
              "      <td>0.0</td>\n",
              "    </tr>\n",
              "    <tr>\n",
              "      <th>4</th>\n",
              "      <td>0.000051</td>\n",
              "      <td>0.000032</td>\n",
              "      <td>0.000001</td>\n",
              "      <td>0.000422</td>\n",
              "      <td>0.000584</td>\n",
              "      <td>0.000017</td>\n",
              "      <td>0.000086</td>\n",
              "      <td>0.000156</td>\n",
              "      <td>1.517451e-07</td>\n",
              "      <td>1.459311e-06</td>\n",
              "      <td>...</td>\n",
              "      <td>0.000000</td>\n",
              "      <td>0.0</td>\n",
              "      <td>0.000007</td>\n",
              "      <td>0.175324</td>\n",
              "      <td>0.0</td>\n",
              "      <td>0.0</td>\n",
              "      <td>0.0</td>\n",
              "      <td>0.0</td>\n",
              "      <td>0.0</td>\n",
              "      <td>0.0</td>\n",
              "    </tr>\n",
              "    <tr>\n",
              "      <th>...</th>\n",
              "      <td>...</td>\n",
              "      <td>...</td>\n",
              "      <td>...</td>\n",
              "      <td>...</td>\n",
              "      <td>...</td>\n",
              "      <td>...</td>\n",
              "      <td>...</td>\n",
              "      <td>...</td>\n",
              "      <td>...</td>\n",
              "      <td>...</td>\n",
              "      <td>...</td>\n",
              "      <td>...</td>\n",
              "      <td>...</td>\n",
              "      <td>...</td>\n",
              "      <td>...</td>\n",
              "      <td>...</td>\n",
              "      <td>...</td>\n",
              "      <td>...</td>\n",
              "      <td>...</td>\n",
              "      <td>...</td>\n",
              "      <td>...</td>\n",
              "    </tr>\n",
              "    <tr>\n",
              "      <th>9995</th>\n",
              "      <td>0.000010</td>\n",
              "      <td>0.000089</td>\n",
              "      <td>0.000012</td>\n",
              "      <td>0.000035</td>\n",
              "      <td>0.000250</td>\n",
              "      <td>0.000013</td>\n",
              "      <td>0.000302</td>\n",
              "      <td>0.000358</td>\n",
              "      <td>4.919654e-07</td>\n",
              "      <td>1.397941e-05</td>\n",
              "      <td>...</td>\n",
              "      <td>0.000000</td>\n",
              "      <td>0.0</td>\n",
              "      <td>0.000000</td>\n",
              "      <td>0.000000</td>\n",
              "      <td>0.0</td>\n",
              "      <td>0.0</td>\n",
              "      <td>0.0</td>\n",
              "      <td>0.0</td>\n",
              "      <td>0.0</td>\n",
              "      <td>0.0</td>\n",
              "    </tr>\n",
              "    <tr>\n",
              "      <th>9996</th>\n",
              "      <td>0.000013</td>\n",
              "      <td>0.000032</td>\n",
              "      <td>0.000015</td>\n",
              "      <td>0.000010</td>\n",
              "      <td>0.000128</td>\n",
              "      <td>0.000011</td>\n",
              "      <td>0.000040</td>\n",
              "      <td>0.000183</td>\n",
              "      <td>1.699713e-06</td>\n",
              "      <td>2.739945e-06</td>\n",
              "      <td>...</td>\n",
              "      <td>0.000000</td>\n",
              "      <td>0.0</td>\n",
              "      <td>0.000000</td>\n",
              "      <td>0.000000</td>\n",
              "      <td>0.0</td>\n",
              "      <td>0.0</td>\n",
              "      <td>0.0</td>\n",
              "      <td>0.0</td>\n",
              "      <td>0.0</td>\n",
              "      <td>0.0</td>\n",
              "    </tr>\n",
              "    <tr>\n",
              "      <th>9997</th>\n",
              "      <td>0.000019</td>\n",
              "      <td>0.000032</td>\n",
              "      <td>0.000005</td>\n",
              "      <td>0.000063</td>\n",
              "      <td>0.000069</td>\n",
              "      <td>0.000010</td>\n",
              "      <td>0.000266</td>\n",
              "      <td>0.000404</td>\n",
              "      <td>3.960000e-07</td>\n",
              "      <td>5.391940e-06</td>\n",
              "      <td>...</td>\n",
              "      <td>0.000000</td>\n",
              "      <td>0.0</td>\n",
              "      <td>0.000000</td>\n",
              "      <td>0.000000</td>\n",
              "      <td>0.0</td>\n",
              "      <td>0.0</td>\n",
              "      <td>0.0</td>\n",
              "      <td>0.0</td>\n",
              "      <td>0.0</td>\n",
              "      <td>0.0</td>\n",
              "    </tr>\n",
              "    <tr>\n",
              "      <th>9998</th>\n",
              "      <td>0.000014</td>\n",
              "      <td>0.000005</td>\n",
              "      <td>0.000023</td>\n",
              "      <td>0.000039</td>\n",
              "      <td>0.000289</td>\n",
              "      <td>0.000022</td>\n",
              "      <td>0.000771</td>\n",
              "      <td>0.000212</td>\n",
              "      <td>2.986876e-07</td>\n",
              "      <td>5.028052e-06</td>\n",
              "      <td>...</td>\n",
              "      <td>0.061031</td>\n",
              "      <td>0.0</td>\n",
              "      <td>0.000000</td>\n",
              "      <td>0.000000</td>\n",
              "      <td>0.0</td>\n",
              "      <td>0.0</td>\n",
              "      <td>0.0</td>\n",
              "      <td>0.0</td>\n",
              "      <td>0.0</td>\n",
              "      <td>0.0</td>\n",
              "    </tr>\n",
              "    <tr>\n",
              "      <th>9999</th>\n",
              "      <td>0.000008</td>\n",
              "      <td>0.000013</td>\n",
              "      <td>0.000014</td>\n",
              "      <td>0.000023</td>\n",
              "      <td>0.000112</td>\n",
              "      <td>0.000041</td>\n",
              "      <td>0.000868</td>\n",
              "      <td>0.000172</td>\n",
              "      <td>4.166905e-08</td>\n",
              "      <td>2.939504e-06</td>\n",
              "      <td>...</td>\n",
              "      <td>0.000000</td>\n",
              "      <td>0.0</td>\n",
              "      <td>0.000000</td>\n",
              "      <td>0.000000</td>\n",
              "      <td>0.0</td>\n",
              "      <td>0.0</td>\n",
              "      <td>0.0</td>\n",
              "      <td>0.0</td>\n",
              "      <td>0.0</td>\n",
              "      <td>0.0</td>\n",
              "    </tr>\n",
              "  </tbody>\n",
              "</table>\n",
              "<p>10000 rows × 196 columns</p>\n",
              "</div>\n",
              "      <button class=\"colab-df-convert\" onclick=\"convertToInteractive('df-3494e52c-fbac-486f-81dc-7208c3f2a452')\"\n",
              "              title=\"Convert this dataframe to an interactive table.\"\n",
              "              style=\"display:none;\">\n",
              "        \n",
              "  <svg xmlns=\"http://www.w3.org/2000/svg\" height=\"24px\"viewBox=\"0 0 24 24\"\n",
              "       width=\"24px\">\n",
              "    <path d=\"M0 0h24v24H0V0z\" fill=\"none\"/>\n",
              "    <path d=\"M18.56 5.44l.94 2.06.94-2.06 2.06-.94-2.06-.94-.94-2.06-.94 2.06-2.06.94zm-11 1L8.5 8.5l.94-2.06 2.06-.94-2.06-.94L8.5 2.5l-.94 2.06-2.06.94zm10 10l.94 2.06.94-2.06 2.06-.94-2.06-.94-.94-2.06-.94 2.06-2.06.94z\"/><path d=\"M17.41 7.96l-1.37-1.37c-.4-.4-.92-.59-1.43-.59-.52 0-1.04.2-1.43.59L10.3 9.45l-7.72 7.72c-.78.78-.78 2.05 0 2.83L4 21.41c.39.39.9.59 1.41.59.51 0 1.02-.2 1.41-.59l7.78-7.78 2.81-2.81c.8-.78.8-2.07 0-2.86zM5.41 20L4 18.59l7.72-7.72 1.47 1.35L5.41 20z\"/>\n",
              "  </svg>\n",
              "      </button>\n",
              "      \n",
              "  <style>\n",
              "    .colab-df-container {\n",
              "      display:flex;\n",
              "      flex-wrap:wrap;\n",
              "      gap: 12px;\n",
              "    }\n",
              "\n",
              "    .colab-df-convert {\n",
              "      background-color: #E8F0FE;\n",
              "      border: none;\n",
              "      border-radius: 50%;\n",
              "      cursor: pointer;\n",
              "      display: none;\n",
              "      fill: #1967D2;\n",
              "      height: 32px;\n",
              "      padding: 0 0 0 0;\n",
              "      width: 32px;\n",
              "    }\n",
              "\n",
              "    .colab-df-convert:hover {\n",
              "      background-color: #E2EBFA;\n",
              "      box-shadow: 0px 1px 2px rgba(60, 64, 67, 0.3), 0px 1px 3px 1px rgba(60, 64, 67, 0.15);\n",
              "      fill: #174EA6;\n",
              "    }\n",
              "\n",
              "    [theme=dark] .colab-df-convert {\n",
              "      background-color: #3B4455;\n",
              "      fill: #D2E3FC;\n",
              "    }\n",
              "\n",
              "    [theme=dark] .colab-df-convert:hover {\n",
              "      background-color: #434B5C;\n",
              "      box-shadow: 0px 1px 3px 1px rgba(0, 0, 0, 0.15);\n",
              "      filter: drop-shadow(0px 1px 2px rgba(0, 0, 0, 0.3));\n",
              "      fill: #FFFFFF;\n",
              "    }\n",
              "  </style>\n",
              "\n",
              "      <script>\n",
              "        const buttonEl =\n",
              "          document.querySelector('#df-3494e52c-fbac-486f-81dc-7208c3f2a452 button.colab-df-convert');\n",
              "        buttonEl.style.display =\n",
              "          google.colab.kernel.accessAllowed ? 'block' : 'none';\n",
              "\n",
              "        async function convertToInteractive(key) {\n",
              "          const element = document.querySelector('#df-3494e52c-fbac-486f-81dc-7208c3f2a452');\n",
              "          const dataTable =\n",
              "            await google.colab.kernel.invokeFunction('convertToInteractive',\n",
              "                                                     [key], {});\n",
              "          if (!dataTable) return;\n",
              "\n",
              "          const docLinkHtml = 'Like what you see? Visit the ' +\n",
              "            '<a target=\"_blank\" href=https://colab.research.google.com/notebooks/data_table.ipynb>data table notebook</a>'\n",
              "            + ' to learn more about interactive tables.';\n",
              "          element.innerHTML = '';\n",
              "          dataTable['output_type'] = 'display_data';\n",
              "          await google.colab.output.renderOutput(dataTable, element);\n",
              "          const docLink = document.createElement('div');\n",
              "          docLink.innerHTML = docLinkHtml;\n",
              "          element.appendChild(docLink);\n",
              "        }\n",
              "      </script>\n",
              "    </div>\n",
              "  </div>\n",
              "  "
            ]
          },
          "metadata": {},
          "execution_count": 31
        }
      ]
    },
    {
      "cell_type": "code",
      "source": [
        "#visualize factor cell scores (this is poorly fitted bc we only ran 2 epochs)\n",
        "factor_of_interest = 'global_0'\n",
        "adata.obs[factor_of_interest] = cell_scores[factor_of_interest].astype(float)\n",
        "sc.pl.umap(adata,color=factor_of_interest,vmax=cell_scores[factor_of_interest].quantile(0.99))"
      ],
      "metadata": {
        "id": "4vXRdI4SzOq9",
        "colab": {
          "base_uri": "https://localhost:8080/",
          "height": 278
        },
        "outputId": "f7b5a8e4-0a0f-47b6-c372-7e5b17ee0e38"
      },
      "execution_count": 32,
      "outputs": [
        {
          "output_type": "display_data",
          "data": {
            "text/plain": [
              "<Figure size 432x288 with 2 Axes>"
            ],
            "image/png": "[encoded data removed]"
          },
          "metadata": {
            "needs_background": "light"
          }
        }
      ]
    },
    {
      "cell_type": "code",
      "source": [
        "#save the adata\n",
        "adata_save_path = 'adata_spectra.h5ad'#where to save the adata to\n",
        "adata.write(adata_save_path)\n",
        "print('Saved adata to:',adata_save_path)"
      ],
      "metadata": {
        "id": "FOU3kk63zQ7x",
        "colab": {
          "base_uri": "https://localhost:8080/"
        },
        "outputId": "f8fc8bb5-6f81-4d91-8a9d-112419d838cb"
      },
      "execution_count": 33,
      "outputs": [
        {
          "output_type": "stream",
          "name": "stdout",
          "text": [
            "Saved adata to: adata_spectra.h5ad\n"
          ]
        }
      ]
    },
    {
      "cell_type": "code",
      "source": [
        "import pickle\n",
        "with open('spectra_model.pickle', 'wb') as f:\n",
        "    pickle.dump(model, f, pickle.HIGHEST_PROTOCOL)"
      ],
      "metadata": {
        "id": "WBz7AZhkWrpk"
      },
      "execution_count": 34,
      "outputs": []
    },
    {
      "cell_type": "code",
      "source": [
        "del model"
      ],
      "metadata": {
        "id": "cZSX8cJTYHfZ"
      },
      "execution_count": 35,
      "outputs": []
    },
    {
      "cell_type": "code",
      "source": [
        "with open('spectra_model.pickle', 'rb') as f:\n",
        "    model = pickle.load(f)"
      ],
      "metadata": {
        "id": "6iSUqLFYX5Jt"
      },
      "execution_count": 36,
      "outputs": []
    },
    {
      "cell_type": "code",
      "source": [
        "model"
      ],
      "metadata": {
        "colab": {
          "base_uri": "https://localhost:8080/"
        },
        "id": "zF-RxztsYBqU",
        "outputId": "e3c8cb7c-0e9c-460d-fa4b-b3cc78d6f492"
      },
      "execution_count": 37,
      "outputs": [
        {
          "output_type": "execute_result",
          "data": {
            "text/plain": [
              "<spectra.spectra.SPECTRA_Model at 0x7f7df2f01c40>"
            ]
          },
          "metadata": {},
          "execution_count": 37
        }
      ]
    }
  ]
}